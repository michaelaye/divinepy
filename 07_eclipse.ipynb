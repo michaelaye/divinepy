{
 "cells": [
  {
   "cell_type": "markdown",
   "id": "3ce01ca8-3192-489f-a258-dc134fb3b4d7",
   "metadata": {},
   "source": [
    "# Ecplise stuff\n",
    "> In progress\n",
    "\n",
    "Cailin has created groundtracks at this path:"
   ]
  },
  {
   "cell_type": "code",
   "execution_count": null,
   "id": "abf57c0d-f76c-4a9a-9aec-581855773730",
   "metadata": {},
   "outputs": [],
   "source": [
    "from fastcore.utils import Path"
   ]
  },
  {
   "cell_type": "code",
   "execution_count": null,
   "id": "25ebdef5-d484-4e10-9b37-eab88afd4924",
   "metadata": {},
   "outputs": [],
   "source": [
    "groundtracks = Path(\"/luna2/cailin/data/eclipse\")"
   ]
  },
  {
   "cell_type": "code",
   "execution_count": null,
   "id": "3fbf2caf-1ae1-4a99-913b-e92abf852982",
   "metadata": {},
   "outputs": [],
   "source": [
    "import pprint"
   ]
  },
  {
   "cell_type": "code",
   "execution_count": null,
   "id": "565545d0-19b1-4d10-8aa1-a9b4c3fe8515",
   "metadata": {},
   "outputs": [],
   "source": [
    "fnames = list(groundtracks.glob(\"*_tlontlat_track.csv\"))"
   ]
  },
  {
   "cell_type": "code",
   "execution_count": null,
   "id": "93e0a3f7-7168-485f-8cff-d3d832d3c4d6",
   "metadata": {},
   "outputs": [
    {
     "data": {
      "text/html": [
       "<div>\n",
       "<style scoped>\n",
       "    .dataframe tbody tr th:only-of-type {\n",
       "        vertical-align: middle;\n",
       "    }\n",
       "\n",
       "    .dataframe tbody tr th {\n",
       "        vertical-align: top;\n",
       "    }\n",
       "\n",
       "    .dataframe thead th {\n",
       "        text-align: right;\n",
       "    }\n",
       "</style>\n",
       "<table border=\"1\" class=\"dataframe\">\n",
       "  <thead>\n",
       "    <tr style=\"text-align: right;\">\n",
       "      <th></th>\n",
       "      <th>lon</th>\n",
       "      <th>lat</th>\n",
       "      <th>marker-color</th>\n",
       "    </tr>\n",
       "  </thead>\n",
       "  <tbody>\n",
       "    <tr>\n",
       "      <th>0</th>\n",
       "      <td>-88.382683</td>\n",
       "      <td>86.254242</td>\n",
       "      <td>rgb(236,236,236)</td>\n",
       "    </tr>\n",
       "    <tr>\n",
       "      <th>1</th>\n",
       "      <td>-86.485886</td>\n",
       "      <td>86.239525</td>\n",
       "      <td>rgb(236,236,236)</td>\n",
       "    </tr>\n",
       "    <tr>\n",
       "      <th>2</th>\n",
       "      <td>-88.753136</td>\n",
       "      <td>86.407021</td>\n",
       "      <td>rgb(236,236,236)</td>\n",
       "    </tr>\n",
       "    <tr>\n",
       "      <th>3</th>\n",
       "      <td>-85.463066</td>\n",
       "      <td>86.381546</td>\n",
       "      <td>rgb(236,236,236)</td>\n",
       "    </tr>\n",
       "    <tr>\n",
       "      <th>4</th>\n",
       "      <td>-88.824966</td>\n",
       "      <td>86.557350</td>\n",
       "      <td>rgb(236,236,236)</td>\n",
       "    </tr>\n",
       "    <tr>\n",
       "      <th>...</th>\n",
       "      <td>...</td>\n",
       "      <td>...</td>\n",
       "      <td>...</td>\n",
       "    </tr>\n",
       "    <tr>\n",
       "      <th>2029</th>\n",
       "      <td>89.971809</td>\n",
       "      <td>-86.191833</td>\n",
       "      <td>rgb(242,242,242)</td>\n",
       "    </tr>\n",
       "    <tr>\n",
       "      <th>2030</th>\n",
       "      <td>89.529541</td>\n",
       "      <td>-86.362938</td>\n",
       "      <td>rgb(242,242,242)</td>\n",
       "    </tr>\n",
       "    <tr>\n",
       "      <th>2031</th>\n",
       "      <td>89.539543</td>\n",
       "      <td>-86.369835</td>\n",
       "      <td>rgb(242,242,242)</td>\n",
       "    </tr>\n",
       "    <tr>\n",
       "      <th>2032</th>\n",
       "      <td>89.963654</td>\n",
       "      <td>-86.534798</td>\n",
       "      <td>rgb(242,242,242)</td>\n",
       "    </tr>\n",
       "    <tr>\n",
       "      <th>2033</th>\n",
       "      <td>89.809822</td>\n",
       "      <td>-86.542877</td>\n",
       "      <td>rgb(242,242,242)</td>\n",
       "    </tr>\n",
       "  </tbody>\n",
       "</table>\n",
       "<p>2034 rows × 3 columns</p>\n",
       "</div>"
      ],
      "text/plain": [
       "            lon        lat      marker-color\n",
       "0    -88.382683  86.254242  rgb(236,236,236)\n",
       "1    -86.485886  86.239525  rgb(236,236,236)\n",
       "2    -88.753136  86.407021  rgb(236,236,236)\n",
       "3    -85.463066  86.381546  rgb(236,236,236)\n",
       "4    -88.824966  86.557350  rgb(236,236,236)\n",
       "...         ...        ...               ...\n",
       "2029  89.971809 -86.191833  rgb(242,242,242)\n",
       "2030  89.529541 -86.362938  rgb(242,242,242)\n",
       "2031  89.539543 -86.369835  rgb(242,242,242)\n",
       "2032  89.963654 -86.534798  rgb(242,242,242)\n",
       "2033  89.809822 -86.542877  rgb(242,242,242)\n",
       "\n",
       "[2034 rows x 3 columns]"
      ]
     },
     "execution_count": null,
     "metadata": {},
     "output_type": "execute_result"
    }
   ],
   "source": [
    "pd.read_csv(fnames[0])"
   ]
  },
  {
   "cell_type": "code",
   "execution_count": null,
   "id": "7eae03d9-18c5-42ff-bfca-075d284acac0",
   "metadata": {},
   "outputs": [],
   "source": []
  }
 ],
 "metadata": {
  "kernelspec": {
   "display_name": "Python [conda env:py38] *",
   "language": "python",
   "name": "conda-env-py38-py"
  }
 },
 "nbformat": 4,
 "nbformat_minor": 5
}
