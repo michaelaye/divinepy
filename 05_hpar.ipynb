{
 "cells": [
  {
   "cell_type": "code",
   "execution_count": null,
   "id": "7ec43194-8546-4a0e-a5f2-ff3745bcdc67",
   "metadata": {},
   "outputs": [],
   "source": [
    "# default_exp hpar"
   ]
  },
  {
   "cell_type": "markdown",
   "id": "b0f0f34f-9511-455f-a4ca-65179fd16947",
   "metadata": {},
   "source": [
    "# H Parameter\n",
    "> A reader for the binary H parameter map"
   ]
  },
  {
   "cell_type": "code",
   "execution_count": null,
   "id": "55a51a94-ff8a-4367-bcde-c3376de483ba",
   "metadata": {},
   "outputs": [],
   "source": [
    "# export\n",
    "from pathlib import Path\n",
    "\n",
    "import dask.array as da\n",
    "import dask\n",
    "import hvplot.xarray\n",
    "import numpy as np\n",
    "import xarray as xr\n",
    "import holoviews as hv"
   ]
  },
  {
   "cell_type": "code",
   "execution_count": null,
   "id": "d2e87207-a8f1-4d92-a4bc-323732bfcb9c",
   "metadata": {},
   "outputs": [],
   "source": [
    "# export\n",
    "basepath = Path(\"/luna4/maye/h_parameter_maps\")\n",
    "lons_path = basepath / \"hpar_global128ppd_v1c.lon.bin\"\n",
    "lats_path = basepath / \"hpar_global128ppd_v1c.lat.bin\"\n",
    "hpar_path = basepath / \"hpar_global128ppd_v1c.bin\"\n",
    "\n",
    "\n",
    "def memmap_binary(fname):\n",
    "    # one extra element for both lats (the 0-line) and lons (360==0)\n",
    "    cols = 128 * 360 + 1\n",
    "    rows = 128 * 140 + 1\n",
    "    # this doesn't read, just maps the diskfile into a virtual array\n",
    "    return np.memmap(fname, np.float32, mode=\"r\", shape=(rows, cols), order=\"F\")\n",
    "\n",
    "\n",
    "def read_hpar_binary(fname=hpar_path):\n",
    "    \"\"\"Reading Paul Hayne's binary global 128 ppd H-parameter map.\n",
    "\n",
    "    Parameters\n",
    "    ----------\n",
    "    fname: str, pathlib.Path\n",
    "        Path to binary 128 ppd map file binary (ending in .bin)\n",
    "    \"\"\"\n",
    "    if Path(fname).suffix != \".bin\":\n",
    "        print(\"not an expected filename ending in .bin .\")\n",
    "        return\n",
    "\n",
    "    arr = memmap_binary(hpar_path)\n",
    "\n",
    "    # create a dask array\n",
    "    a = da.from_array(arr)\n",
    "\n",
    "    # replacing the NAN values with actual np.nan\n",
    "    nan_value = -32768\n",
    "    a[a == nan_value] = np.nan\n",
    "\n",
    "    # making up the lon/lat grid. Might need adaptation to match other global data\n",
    "    lons = np.linspace(0, 360, arr.shape[1])\n",
    "    lats = np.linspace(70, -70, arr.shape[0])\n",
    "\n",
    "    # create xarray DataArray from the dask array (thankfully supported, but not documented)\n",
    "    img = xr.DataArray(a, dims=[\"lat\", \"lon\"], coords={\"lat\": lats, \"lon\": lons})\n",
    "    img.name = \"H\"\n",
    "    return img"
   ]
  },
  {
   "cell_type": "markdown",
   "id": "80561859-5b76-4b68-8122-b46a3c6222f9",
   "metadata": {},
   "source": [
    "Size in bytes:"
   ]
  },
  {
   "cell_type": "code",
   "execution_count": null,
   "id": "601b74b7-4a30-4922-b9f0-6a2c8e09de08",
   "metadata": {},
   "outputs": [],
   "source": [
    "size = hpar_path.stat().st_size\n",
    "size"
   ]
  },
  {
   "cell_type": "markdown",
   "id": "a5a000eb-ee6c-4594-b1ed-8cd73b177a98",
   "metadata": {},
   "source": [
    "Scaling down 80 lats to 70:"
   ]
  },
  {
   "cell_type": "code",
   "execution_count": null,
   "id": "b98bbf6c-b69c-4d82-a4e4-250edb5247c3",
   "metadata": {},
   "outputs": [],
   "source": [
    "n_lats = 20480 / 80 * 70\n",
    "n_lats"
   ]
  },
  {
   "cell_type": "code",
   "execution_count": null,
   "id": "e1dfda1c-a9ea-49d0-983e-315bf2167ae9",
   "metadata": {},
   "outputs": [],
   "source": [
    "npix = 46080 * int(n_lats)\n",
    "npix"
   ]
  },
  {
   "cell_type": "markdown",
   "id": "b7ae7c97-8457-4f18-b415-6539e0545998",
   "metadata": {},
   "source": [
    "multiply by 32 bits, divide by 8 to get bytes:"
   ]
  },
  {
   "cell_type": "code",
   "execution_count": null,
   "id": "bb6113ee-5cea-48f2-bc55-adefad05d348",
   "metadata": {},
   "outputs": [],
   "source": [
    "expected_bytes = npix * 32 / 8\n",
    "expected_bytes"
   ]
  },
  {
   "cell_type": "markdown",
   "id": "01ad8435-6356-414a-8e17-efd820cd8248",
   "metadata": {},
   "source": [
    "Ratio:"
   ]
  },
  {
   "cell_type": "code",
   "execution_count": null,
   "id": "6b5a2eac-7821-40ce-af6c-b75eb38e9055",
   "metadata": {},
   "outputs": [],
   "source": [
    "size / expected_bytes"
   ]
  },
  {
   "cell_type": "code",
   "execution_count": null,
   "id": "e5de5f91-c153-48b6-9bca-48e82c976d5c",
   "metadata": {},
   "outputs": [],
   "source": [
    "npix = 46081 * (int(n_lats) + 1)\n",
    "npix"
   ]
  },
  {
   "cell_type": "code",
   "execution_count": null,
   "id": "201f770e-9cfc-463f-b576-d0e391b7b681",
   "metadata": {},
   "outputs": [],
   "source": [
    "expected_bytes = npix * 32 / 8\n",
    "size / expected_bytes"
   ]
  },
  {
   "cell_type": "code",
   "execution_count": null,
   "id": "a0859b68-1019-4fb3-a2eb-f2b899ee4673",
   "metadata": {},
   "outputs": [],
   "source": [
    "lats = memmap_binary(lats_path)\n",
    "lats[0], lats[-1]"
   ]
  },
  {
   "cell_type": "code",
   "execution_count": null,
   "id": "3d50f2c5-2089-48c3-8edd-b7ae0870de03",
   "metadata": {},
   "outputs": [],
   "source": [
    "lons = memmap_binary(lons_path)\n",
    "lons[:, 0], lons[:, -1]"
   ]
  },
  {
   "cell_type": "code",
   "execution_count": null,
   "id": "7aa6a406-be33-4295-80d2-9bdce2e62839",
   "metadata": {},
   "outputs": [],
   "source": [
    "with np.printoptions(precision=10):\n",
    "    print(lons[0])"
   ]
  },
  {
   "cell_type": "code",
   "execution_count": null,
   "id": "76743091-33ce-4502-965c-e2b14327a897",
   "metadata": {},
   "outputs": [],
   "source": [
    "with np.printoptions(precision=10):\n",
    "    print(lons[:, 0])"
   ]
  },
  {
   "cell_type": "code",
   "execution_count": null,
   "id": "5ea4e00f-ce32-4f59-b623-a8f9804d5bf4",
   "metadata": {},
   "outputs": [],
   "source": [
    "with np.printoptions(precision=20):\n",
    "    print(lons[0])"
   ]
  },
  {
   "cell_type": "code",
   "execution_count": null,
   "id": "080b5cfc-3eb3-4bc2-bb7d-bc9e007428b6",
   "metadata": {},
   "outputs": [],
   "source": [
    "np.linspace(-70, 70, int(n_lats))"
   ]
  },
  {
   "cell_type": "code",
   "execution_count": null,
   "id": "6839b34c-3226-4603-b8df-8c4de70298b0",
   "metadata": {},
   "outputs": [],
   "source": [
    "# export\n",
    "half_pixel_degree = 1 / 128 / 2\n",
    "half_pixel_degree"
   ]
  },
  {
   "cell_type": "code",
   "execution_count": null,
   "id": "ef15e0bc-54e3-4d94-838c-1945b48f2296",
   "metadata": {},
   "outputs": [],
   "source": [
    "with_n_plus_1 = np.linspace(\n",
    "    -70 - half_pixel_degree, 70 - half_pixel_degree, int(n_lats), endpoint=True\n",
    ")"
   ]
  },
  {
   "cell_type": "code",
   "execution_count": null,
   "id": "68a5247c-b4f2-434f-b098-8046bd63a580",
   "metadata": {},
   "outputs": [],
   "source": [
    "from_data = lats[\n",
    "    :,\n",
    "    0,\n",
    "][::-1]"
   ]
  },
  {
   "cell_type": "code",
   "execution_count": null,
   "id": "4b853dc1-b565-4d7a-9b1f-62266a32f365",
   "metadata": {},
   "outputs": [],
   "source": [
    "n = len(from_data)"
   ]
  },
  {
   "cell_type": "code",
   "execution_count": null,
   "id": "4452ebaf-f5e0-428f-8d55-47ca6fe9a48a",
   "metadata": {},
   "outputs": [],
   "source": [
    "n"
   ]
  },
  {
   "cell_type": "code",
   "execution_count": null,
   "id": "3d3dda47-3999-4416-af2e-5c96884503d7",
   "metadata": {},
   "outputs": [],
   "source": [
    "%matplotlib widget"
   ]
  },
  {
   "cell_type": "code",
   "execution_count": null,
   "id": "f6ad0bee-9a59-4a6d-a60b-50c7d9fe0ff0",
   "metadata": {},
   "outputs": [],
   "source": [
    "from_data[:10]"
   ]
  },
  {
   "cell_type": "code",
   "execution_count": null,
   "id": "0a01461f-5036-4bc4-b9d9-1ff1f7e080d3",
   "metadata": {},
   "outputs": [],
   "source": [
    "with_n_plus_1"
   ]
  },
  {
   "cell_type": "code",
   "execution_count": null,
   "id": "edafa85f-6268-4776-a754-18b81448c3f2",
   "metadata": {},
   "outputs": [],
   "source": [
    "# export\n",
    "class HReader:\n",
    "    \"\"\"Data reader class for H parameter map.\n",
    "\n",
    "    It accesses preproduced data for 128 ppd for DEM, slope, and aspect,\n",
    "    located on the luna4 disk.\n",
    "\n",
    "    It uses virtual dask.Arrays so that virtually no memory is consumed until you\n",
    "    resolve a chain of operations with the `.compute()` call.\n",
    "\n",
    "    Attributes\n",
    "    ----------\n",
    "    H: xarray.DataArray\n",
    "        H parameter map\n",
    "    \"\"\"\n",
    "\n",
    "    def __init__(self, lat_limit=None, other_path=None):\n",
    "        self.lat_limit = lat_limit\n",
    "        path = hpar_path if other_path is None else other_path\n",
    "        arr = memmap_binary(path)\n",
    "        # dask array:\n",
    "        a = da.from_array(arr[:, :-1])\n",
    "        # replace NAN values with np.nan\n",
    "        a[a == -32768] = np.nan\n",
    "\n",
    "        # As per Paul's README:\n",
    "        lats = np.linspace(70 - half_pixel_degree, -70 - half_pixel_degree, arr.shape[0], endpoint=True)\n",
    "        lons = np.linspace(0+half_pixel_degree, 360+half_pixel_degree, arr.shape[1], endpoint=True)\n",
    "\n",
    "        # create xarray DataArray from the dask array (thankfully supported, but not documented)\n",
    "        img = xr.DataArray(a, dims=[\"lat\", \"lon\"], coords={\"lat\": lats, \"lon\": lons[:-1]})\n",
    "        img.name = \"H\"\n",
    "        img.attrs[\"long_name\"] = \"H Parameter\"\n",
    "        img.attrs[\"units\"] = \"H units :-P\"\n",
    "        self.img = img\n",
    "\n",
    "    def slice_lat(self, lat: float):  # Limiting latitude value\n",
    "        \"\"\"Return the map `data` constrained to lat <= `lat`\"\"\"\n",
    "        s = slice(lat, -lat)\n",
    "        return self.img.sel(lat=s, drop=True)\n",
    "\n",
    "    def convert_to_lon180(self):\n",
    "        \"Switch image to -180/180 longitude system.\"\n",
    "        p = self.img\n",
    "        p.coords[\"lon\"] = ((p.lon + 180) % 360) - 180\n",
    "        with dask.config.set(**{\"array.slicing.split_large_chunks\": False}):\n",
    "            self.img = p.sortby(p.lon)\n",
    "\n",
    "    def convert_to_lon360(self):\n",
    "        \"Switch image to 360 longitude system.\"\n",
    "        p = self.img\n",
    "        p.coords[\"lon\"] = p.coords[\"lon\"] % 360\n",
    "        with dask.config.set(**{\"array.slicing.split_large_chunks\": False}):\n",
    "            self.img = p.sortby(p.lon)\n",
    "\n",
    "    def assign_new_latlon(self, lat, lon):\n",
    "        \"make sure longitude layout matches!\"\n",
    "        p = self.img\n",
    "        p.coords[\"lon\"] = lon\n",
    "        p.coords[\"lat\"] = lat\n",
    "        self.img = p.sortby(p.lon)\n",
    "\n",
    "    def get_H_by_pixel(self, ilat, ilon):\n",
    "        \"Note: Decided to not apply offset!\"\n",
    "        val = self.img.isel(lat=ilat, lon=ilon)\n",
    "        return float(val)\n",
    "\n",
    "    def get_H_by_coord(self, lat, lon):\n",
    "        \"Note: Decided to not apply offset!\"\n",
    "        val = self.img.sel(lat=lat, lon=lon, method=\"nearest\")\n",
    "        return float(val)\n",
    "\n",
    "    def plot(self, lat_min, lon_min, dlat=1, dlon=1, lat_max=None, lon_max=None):\n",
    "        sliced = self.get_slice(lat_min, lon_min, dlat, dlon, lat_max, lon_max)\n",
    "        return sliced.hvplot(cmap=\"viridis\", aspect=\"equal\", title=\"DEM\")\n",
    "\n",
    "    def get_slice(\n",
    "        self, lat_min, lon_min, dlat=None, dlon=None, lat_max=None, lon_max=None\n",
    "    ):\n",
    "        \"\"\"Slice a rectangular data tile out of the map.\n",
    "\n",
    "        Parameters\n",
    "        ----------\n",
    "        lat_min: float\n",
    "            Lower left corner latitude of slice.\n",
    "        lon_min: float\n",
    "            Lower left corner longitude of slice.\n",
    "        dlat: float\n",
    "            Delta to be added to `lat_min`\n",
    "        dlon: float\n",
    "            Delta lon to be added to `lon_min`\n",
    "        lat_max: float\n",
    "            Alternative for dlat, to set upper end of latitude interval.\n",
    "        lon_max: float\n",
    "            Alternative for dlon, to set right end of longitude interval.\n",
    "\n",
    "        Returns\n",
    "        -------\n",
    "        xarray.DataArray\n",
    "            Sliced for the provided coordinate values.\n",
    "        \"\"\"\n",
    "        if lon_max is None:\n",
    "            lon_max = lon_min + dlon\n",
    "        if lat_max is None:\n",
    "            lat_max = lat_min + dlat\n",
    "        return self.img.sel(lat=slice(lat_max, lat_min), lon=slice(lon_min, lon_max))"
   ]
  },
  {
   "cell_type": "code",
   "execution_count": null,
   "id": "90c58a77-c526-4b3a-97bd-279860c80765",
   "metadata": {},
   "outputs": [],
   "source": [
    "H = HReader()"
   ]
  },
  {
   "cell_type": "code",
   "execution_count": null,
   "id": "e58ec8dc-c453-44e2-be25-07d8473b98a3",
   "metadata": {},
   "outputs": [],
   "source": [
    "H.img"
   ]
  },
  {
   "cell_type": "code",
   "execution_count": null,
   "id": "63fa82c2-bb93-4aca-8100-4ba5a445eeb8",
   "metadata": {},
   "outputs": [],
   "source": [
    "H.img.lon"
   ]
  },
  {
   "cell_type": "code",
   "execution_count": null,
   "id": "de9221d5-b14e-4e2e-8d70-ef8f515959c8",
   "metadata": {},
   "outputs": [],
   "source": [
    "H.img.isel(lon=slice(0,5), drop=True).hvplot()"
   ]
  },
  {
   "cell_type": "code",
   "execution_count": null,
   "id": "018314e6-b0c0-4a5d-8205-5e469db86ec9",
   "metadata": {},
   "outputs": [],
   "source": [
    "H.get_H_by_coord(20, 50)"
   ]
  },
  {
   "cell_type": "code",
   "execution_count": null,
   "id": "6d4a2f77-43e8-43b5-bfbc-fa150e079cfb",
   "metadata": {},
   "outputs": [],
   "source": [
    "H.convert_to_lon360()"
   ]
  },
  {
   "cell_type": "code",
   "execution_count": null,
   "id": "e7d87bd9-8206-4259-9c04-50459a31d495",
   "metadata": {},
   "outputs": [],
   "source": [
    "H.img"
   ]
  },
  {
   "cell_type": "code",
   "execution_count": null,
   "id": "4c9d58db-cab5-4008-9863-236f89d7c941",
   "metadata": {},
   "outputs": [],
   "source": [
    "H.get_slice(20, 310, 1, 1)"
   ]
  },
  {
   "cell_type": "code",
   "execution_count": null,
   "id": "ea106fa9-f198-4087-8995-b74a912effa7",
   "metadata": {},
   "outputs": [],
   "source": [
    "H.img.lon"
   ]
  },
  {
   "cell_type": "code",
   "execution_count": null,
   "id": "1eb226e9-a3a1-4be2-9293-589c305a41e6",
   "metadata": {},
   "outputs": [],
   "source": [
    "H.get_H_by_coord(20, 70)"
   ]
  },
  {
   "cell_type": "code",
   "execution_count": null,
   "id": "408becf6-7f16-475c-bae0-12325132b5b1",
   "metadata": {},
   "outputs": [],
   "source": []
  },
  {
   "cell_type": "code",
   "execution_count": null,
   "id": "7d53cf2b-f635-4283-94e9-db6670e1f78f",
   "metadata": {},
   "outputs": [],
   "source": []
  },
  {
   "cell_type": "code",
   "execution_count": null,
   "id": "18b42b5a-bfd0-4835-8a2d-06fcba768aeb",
   "metadata": {},
   "outputs": [],
   "source": []
  },
  {
   "cell_type": "code",
   "execution_count": null,
   "id": "193292b2-6b68-401a-be24-90310177976b",
   "metadata": {},
   "outputs": [],
   "source": [
    "lons = memmap_binary(lons_path)"
   ]
  },
  {
   "cell_type": "code",
   "execution_count": null,
   "id": "f6806ae6-443e-4ac4-951a-d15183fe1bf9",
   "metadata": {},
   "outputs": [],
   "source": [
    "lons.shape"
   ]
  },
  {
   "cell_type": "code",
   "execution_count": null,
   "id": "fc59fc46-95f4-46b5-966b-1238d36ead38",
   "metadata": {},
   "outputs": [],
   "source": [
    "pd.Series(lons[:, 0]).value_counts()"
   ]
  },
  {
   "cell_type": "code",
   "execution_count": null,
   "id": "fbce00af-51bd-420e-a35a-ea01803cf154",
   "metadata": {},
   "outputs": [],
   "source": [
    "pd.Series(lons[:, -1]).value_counts()"
   ]
  },
  {
   "cell_type": "code",
   "execution_count": null,
   "id": "da1afd0f-bd05-4df0-8626-eb6520b13c99",
   "metadata": {},
   "outputs": [],
   "source": [
    "H = memmap_binary(hpar_path)"
   ]
  },
  {
   "cell_type": "code",
   "execution_count": null,
   "id": "0295c722-87d7-4859-97a8-7c78f4e492ce",
   "metadata": {},
   "outputs": [],
   "source": [
    "H.shape"
   ]
  },
  {
   "cell_type": "code",
   "execution_count": null,
   "id": "14ace47d-911a-43f1-913b-6944251f7996",
   "metadata": {},
   "outputs": [],
   "source": [
    "H[:, 0][:10]"
   ]
  },
  {
   "cell_type": "code",
   "execution_count": null,
   "id": "f055eece-0ddb-4c52-86ac-5fd492ae1b01",
   "metadata": {},
   "outputs": [],
   "source": [
    "H[:, -1][:10]"
   ]
  },
  {
   "cell_type": "code",
   "execution_count": null,
   "id": "d508a439-764c-44d0-9b92-410632caef13",
   "metadata": {},
   "outputs": [],
   "source": [
    "H = read_hpar_binary()"
   ]
  },
  {
   "cell_type": "code",
   "execution_count": null,
   "id": "dac32536-e308-456e-8e30-1932ba031ca7",
   "metadata": {},
   "outputs": [],
   "source": [
    "H.isel(lon=0).hvplot() * H.isel(lon=-1).hvplot()"
   ]
  },
  {
   "cell_type": "code",
   "execution_count": null,
   "id": "622a2d97-64cd-493c-973a-512ef7b3a35a",
   "metadata": {},
   "outputs": [],
   "source": [
    "(H.isel(lon=0)[1:] - H.isel(lon=-1)[:-1]).compute().data"
   ]
  },
  {
   "cell_type": "code",
   "execution_count": null,
   "id": "4a62ca19-2750-4a5b-ab7d-dfbfb77d5002",
   "metadata": {},
   "outputs": [],
   "source": [
    "left = H.isel(lon=-1)[:-1].compute().data"
   ]
  },
  {
   "cell_type": "code",
   "execution_count": null,
   "id": "9f69cadd-a61d-48b3-95d1-6cfcb241c307",
   "metadata": {},
   "outputs": [],
   "source": [
    "right = H.isel(lon=0)[1:].compute().data"
   ]
  },
  {
   "cell_type": "code",
   "execution_count": null,
   "id": "b63182a6-95f0-48a0-acd8-c4c33bb77b39",
   "metadata": {},
   "outputs": [],
   "source": [
    "pd.Series(left - right).value_counts()"
   ]
  },
  {
   "cell_type": "code",
   "execution_count": null,
   "id": "985accf1-2a86-441c-b5d6-3a1027e1faf4",
   "metadata": {},
   "outputs": [],
   "source": [
    "17326 / left.shape[0]"
   ]
  },
  {
   "cell_type": "code",
   "execution_count": null,
   "id": "fdab5006-a178-4e9c-93e3-a5b36f94bbd1",
   "metadata": {},
   "outputs": [],
   "source": [
    "%matplotlib widget"
   ]
  },
  {
   "cell_type": "code",
   "execution_count": null,
   "id": "f600feb2-7103-45d0-9b96-c534d8d2753d",
   "metadata": {},
   "outputs": [],
   "source": [
    "fig, ax = plt.subplots()\n",
    "ax.plot(H[:, 0], label=\"left\")\n",
    "ax.plot(H[:, -1], label=\"right\")"
   ]
  },
  {
   "cell_type": "code",
   "execution_count": null,
   "id": "d4e94701-18a0-4f67-a830-cbc71cb7dbb7",
   "metadata": {},
   "outputs": [],
   "source": [
    "H[:, 0][:10]"
   ]
  },
  {
   "cell_type": "code",
   "execution_count": null,
   "id": "eb1653f0-2a89-4149-ab1d-39c0366d97d4",
   "metadata": {},
   "outputs": [],
   "source": [
    "H[:, -1][:10]"
   ]
  },
  {
   "cell_type": "code",
   "execution_count": null,
   "id": "cb2a268f-1773-4e98-bf4f-2f172709ffc0",
   "metadata": {},
   "outputs": [],
   "source": []
  },
  {
   "cell_type": "code",
   "execution_count": null,
   "id": "f6db93bd-568c-42b0-acc6-456092037f90",
   "metadata": {},
   "outputs": [],
   "source": [
    "H.lon.diff(\"lon\") / 2"
   ]
  },
  {
   "cell_type": "code",
   "execution_count": null,
   "id": "667dc4b8-8bc2-44e9-b20b-b665f3f8070a",
   "metadata": {},
   "outputs": [],
   "source": [
    "H = read_hpar_binary()"
   ]
  },
  {
   "cell_type": "code",
   "execution_count": null,
   "id": "d4c6f3e5-57d9-43bd-9a84-f153478108c6",
   "metadata": {},
   "outputs": [],
   "source": [
    "import hvplot.xarray"
   ]
  },
  {
   "cell_type": "code",
   "execution_count": null,
   "id": "37284c6a-1ff1-4610-ad9e-58d8018067e8",
   "metadata": {},
   "outputs": [],
   "source": [
    "H.isel(lon=0).hvplot() * H.isel(lon=-1).hvplot()"
   ]
  },
  {
   "cell_type": "code",
   "execution_count": null,
   "id": "f8a71b12-24aa-4735-a1ba-62c7ffdddcc4",
   "metadata": {},
   "outputs": [],
   "source": [
    "rate = 47"
   ]
  },
  {
   "cell_type": "code",
   "execution_count": null,
   "id": "73183831-0566-45a9-ade4-2efb6aae662d",
   "metadata": {},
   "outputs": [],
   "source": [
    "rate * 8"
   ]
  },
  {
   "cell_type": "code",
   "execution_count": null,
   "id": "32ba1610-f0c5-4834-9091-634f402aa86d",
   "metadata": {},
   "outputs": [],
   "source": [
    "arr_x = []\n",
    "arr_y = []\n",
    "for i in range(5):\n",
    "    arr_x.append(np.sort(np.random.uniform(size=20)))\n",
    "    arr_y.append(np.sort(np.random.uniform(size=20)))"
   ]
  },
  {
   "cell_type": "code",
   "execution_count": null,
   "id": "02054a47-abe5-411d-86aa-0900ff4f66b6",
   "metadata": {},
   "outputs": [],
   "source": [
    "plt.figure()\n",
    "for x, y in zip(arr_x, arr_y):\n",
    "    plt.plot(x, y)"
   ]
  },
  {
   "cell_type": "code",
   "execution_count": null,
   "id": "2d5dca3e-3ce1-4b0f-9778-987feea753b9",
   "metadata": {},
   "outputs": [],
   "source": []
  }
 ],
 "metadata": {
  "kernelspec": {
   "display_name": "Python [conda env:py38] *",
   "language": "python",
   "name": "conda-env-py38-py"
  }
 },
 "nbformat": 4,
 "nbformat_minor": 5
}
