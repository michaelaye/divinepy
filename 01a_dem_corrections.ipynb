{
 "cells": [
  {
   "cell_type": "code",
   "execution_count": null,
   "id": "technical-spring",
   "metadata": {},
   "outputs": [],
   "source": [
    "# default_exp dem_corrections"
   ]
  },
  {
   "cell_type": "markdown",
   "id": "potential-folder",
   "metadata": {},
   "source": [
    "# DEMS / Topography corrections\n",
    "> Functions to calculate effective latitude and local_time from slope and azimuth of the surface facet"
   ]
  },
  {
   "cell_type": "code",
   "execution_count": null,
   "id": "aquatic-intelligence",
   "metadata": {},
   "outputs": [],
   "source": [
    "# hide\n",
    "from nbdev.showdoc import *  #noqa"
   ]
  },
  {
   "cell_type": "code",
   "execution_count": null,
   "id": "organized-eagle",
   "metadata": {},
   "outputs": [],
   "source": [
    "# export\n",
    "from math import tau\n",
    "\n",
    "import numpy as np\n",
    "from fastcore.test import is_close"
   ]
  },
  {
   "cell_type": "code",
   "execution_count": null,
   "id": "fluid-google",
   "metadata": {},
   "outputs": [],
   "source": [
    "# export\n",
    "def t_prime(t, slope, az):\n",
    "    \"\"\"Calculate effective local time from surface slope and azimuth.\n",
    "\n",
    "    Parameters\n",
    "    ----------\n",
    "    t: float\n",
    "        Local time of Diviner measurement\n",
    "    slope: float\n",
    "        Dimensionless surface slope rise/run, i.e. slope[%] * 100\n",
    "    az: float\n",
    "        Azimuth angle of surface, measured from north.\n",
    "\n",
    "    Returns\n",
    "    -------\n",
    "    float: Effective local time\n",
    "    \"\"\"\n",
    "    term2 = 24 / tau * np.arctan(slope * np.sin(np.radians(az)))\n",
    "    return t + term2\n",
    "\n",
    "\n",
    "def lat_prime(lat, slope, az):\n",
    "    \"\"\"Calculate effective latitude from surface slope and azimuth.\n",
    "\n",
    "    Parameters\n",
    "    ----------\n",
    "    lat: float(deg)\n",
    "        Latitude of Diviner measurement\n",
    "    slope: float\n",
    "        Dimensionless surface slope rise/run, i.e. slope[%] * 100\n",
    "    az: float\n",
    "        Azimuth angle of surface, measured from north.\n",
    "\n",
    "    Returns\n",
    "    -------\n",
    "    float: Effective latitude\n",
    "    \"\"\"\n",
    "    term2 = 360 / tau * np.arctan(slope * np.cos(np.radians(az)))\n",
    "    return lat + term2"
   ]
  },
  {
   "cell_type": "code",
   "execution_count": null,
   "id": "stupid-williams",
   "metadata": {},
   "outputs": [],
   "source": [
    "# no correction for time when pointing north:\n",
    "assert is_close(8.0, t_prime(8, 0.5, 0))"
   ]
  },
  {
   "cell_type": "code",
   "execution_count": null,
   "id": "determined-protein",
   "metadata": {},
   "outputs": [],
   "source": [
    "# if pointing east, towards sun, local time is later:\n",
    "assert is_close(9.77100, t_prime(8, 0.5, 90))"
   ]
  },
  {
   "cell_type": "code",
   "execution_count": null,
   "id": "dressed-happening",
   "metadata": {},
   "outputs": [],
   "source": [
    "# when pointing west, away from sun, effective local time is earlier:\n",
    "assert is_close(6.22899, t_prime(8, 0.5, 270))"
   ]
  },
  {
   "cell_type": "code",
   "execution_count": null,
   "id": "coral-effects",
   "metadata": {},
   "outputs": [],
   "source": [
    "# extreme latitude correction when pointing that much north (~30 deg)\n",
    "# from equator:\n",
    "assert is_close(26.56505, lat_prime(0, 0.5, 0))"
   ]
  },
  {
   "cell_type": "code",
   "execution_count": null,
   "id": "suspected-retrieval",
   "metadata": {},
   "outputs": [],
   "source": [
    "# no lat correction when pointing east:\n",
    "assert is_close(30.0, lat_prime(30, 0.5, 90))"
   ]
  },
  {
   "cell_type": "code",
   "execution_count": null,
   "id": "noticed-hygiene",
   "metadata": {},
   "outputs": [],
   "source": [
    "# pointing south:\n",
    "assert is_close(-26.56505, lat_prime(0, 0.5, 180))"
   ]
  },
  {
   "cell_type": "code",
   "execution_count": null,
   "id": "champion-surprise",
   "metadata": {},
   "outputs": [],
   "source": [
    "assert is_close(0, lat_prime(0, 0.5, 270))"
   ]
  },
  {
   "cell_type": "code",
   "execution_count": null,
   "id": "atomic-daily",
   "metadata": {},
   "outputs": [],
   "source": []
  }
 ],
 "metadata": {
  "kernelspec": {
   "display_name": "Python 3",
   "language": "python",
   "name": "python3"
  }
 },
 "nbformat": 4,
 "nbformat_minor": 5
}
