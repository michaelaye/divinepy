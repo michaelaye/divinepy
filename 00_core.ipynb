{
 "cells": [
  {
   "cell_type": "code",
   "execution_count": null,
   "metadata": {},
   "outputs": [],
   "source": [
    "# default_exp core"
   ]
  },
  {
   "cell_type": "markdown",
   "metadata": {},
   "source": [
    "# Core reading utils\n",
    "> API details."
   ]
  },
  {
   "cell_type": "code",
   "execution_count": null,
   "metadata": {},
   "outputs": [],
   "source": [
    "# hide\n",
    "from nbdev.showdoc import *"
   ]
  },
  {
   "cell_type": "code",
   "execution_count": null,
   "metadata": {},
   "outputs": [],
   "source": [
    "# exporti\n",
    "from pathlib import Path\n",
    "\n",
    "import xarray as xr"
   ]
  },
  {
   "cell_type": "code",
   "execution_count": null,
   "metadata": {},
   "outputs": [],
   "source": [
    "# export\n",
    "def raster_to_xarray(fpath, chunk_scale=2):\n",
    "    \"\"\"Read raster image into an xarray.DataArray.\n",
    "\n",
    "    Using the `chunks` keyword in the open_rasterio method\n",
    "    activates the return of an out-of-memory virtual array instead\n",
    "    of the in-memory xarray.DataArray\n",
    "\n",
    "    fpath: pathlib.Path, str\n",
    "    chunk_scale: int\n",
    "        Multiplier for the hardcoded 2048/1024 chunk-sizes for\n",
    "        x/y axes.\n",
    "    \"\"\"\n",
    "    fpath = Path(fpath)\n",
    "    da = xr.open_rasterio(\n",
    "        fpath, chunks={\"x\": chunk_scale * 2048, \"y\": chunk_scale * 1024}\n",
    "    )\n",
    "    return da"
   ]
  },
  {
   "cell_type": "markdown",
   "metadata": {},
   "source": [
    "Using the `chunks` parameter in `open_rasterio` returns a `dask.array` version of `xarray.DataArray`:"
   ]
  },
  {
   "cell_type": "code",
   "execution_count": null,
   "metadata": {},
   "outputs": [],
   "source": [
    "# export\n",
    "def mapcycle_to_xarray(fpath, chunk_scale=2):\n",
    "    \"\"\"Read an Diviner map cycle rasterio image into a dask.array.\n",
    "\n",
    "    The cycle identifier will be read from the filename and added\n",
    "    to the xarray as a coordinate value.\n",
    "\n",
    "    fpath: str, pathlib.Path\n",
    "    chunk_scale: int\n",
    "        Scaling the chunk\n",
    "    \"\"\"\n",
    "    fpath = Path(fpath)\n",
    "    da = raster_to_xarray(fpath)\n",
    "    cycle = int(fpath.name.split(\"_\")[4][:-1])\n",
    "    da = da.assign_coords(band=[cycle])\n",
    "    return da.rename({\"band\": \"time\"})"
   ]
  },
  {
   "cell_type": "code",
   "execution_count": null,
   "metadata": {},
   "outputs": [],
   "source": [
    "# export\n",
    "def read_images_into_stacked_array(image_paths, name, chunk_scale=2):\n",
    "    arrays = [raster_to_xarray(p, chunk_scale) for p in image_paths]\n",
    "    stack = xr.concat(arrays, \"time\")\n",
    "    stack.name = name\n",
    "    return stack\n",
    "\n",
    "\n",
    "def read_mapcycles_into_stacked_array(image_paths, name, chunk_scale=2):\n",
    "    arrays = [mapcycle_to_xarray(p, chunk_scale) for p in image_paths]\n",
    "    stack = xr.concat(arrays, \"time\")\n",
    "    stack.name = name\n",
    "    return stack\n",
    "\n",
    "\n",
    "def get_data_for_pixel(xoff, yoff, ReaderClass, image_paths, name, chunk_scale=1):\n",
    "    stack = read_images_into_stacked_array(image_paths, name, chunk_scale)\n",
    "    pix = stack.isel(x=xoff, y=yoff)\n",
    "    pix = pix.where(pix != -32768)\n",
    "    img = ReaderClass.from_fpath(image_paths[0])\n",
    "    pix = pix * img.SCALING_FACTOR + img.OFFSET\n",
    "    return pix.compute()"
   ]
  },
  {
   "cell_type": "code",
   "execution_count": null,
   "metadata": {},
   "outputs": [
    {
     "name": "stdout",
     "output_type": "stream",
     "text": [
      "Converted 00_core.ipynb.\n",
      "Converted 01_dems.ipynb.\n",
      "Converted 02_divdata.ipynb.\n",
      "Converted 03_l2data.ipynb.\n",
      "Converted 04_l3data.ipynb.\n",
      "Converted index.ipynb.\n"
     ]
    }
   ],
   "source": [
    "from nbdev.export import notebook2script; notebook2script()"
   ]
  },
  {
   "cell_type": "code",
   "execution_count": null,
   "metadata": {},
   "outputs": [],
   "source": []
  }
 ],
 "metadata": {
  "kernelspec": {
   "display_name": "Python 3",
   "language": "python",
   "name": "python3"
  }
 },
 "nbformat": 4,
 "nbformat_minor": 4
}
